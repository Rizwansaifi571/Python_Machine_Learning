{
 "cells": [
  {
   "cell_type": "markdown",
   "metadata": {},
   "source": [
    "# __Machine Learning - Polynomial Regression.__\n",
    "Date : 14, Feb, 2024."
   ]
  },
  {
   "cell_type": "markdown",
   "metadata": {},
   "source": [
    "__Polynomial Regression.__\n",
    "- If your data points clearly will not fit a linear regression (a straight line through all data points), it might be ideal for polynomial regression.\n",
    "\n",
    "- Polynomial regression, like linear regression, uses the relationship between the variables x and y to find the best way to draw a line through the data points.\n",
    "  \n",
    "- Example : \n",
    "    * we have registered 18 cars as they were passing a certain tollbooth.\n",
    "\n",
    "    * We have registered the car's speed, and the time of day (hour) the passing occurred.\n",
    "\n",
    "    * The x-axis represents the hours of the day and the y-axis represents the speed:"
   ]
  }
 ],
 "metadata": {
  "kernelspec": {
   "display_name": "Python 3",
   "language": "python",
   "name": "python3"
  },
  "language_info": {
   "codemirror_mode": {
    "name": "ipython",
    "version": 3
   },
   "file_extension": ".py",
   "mimetype": "text/x-python",
   "name": "python",
   "nbconvert_exporter": "python",
   "pygments_lexer": "ipython3",
   "version": "3.11.4"
  }
 },
 "nbformat": 4,
 "nbformat_minor": 2
}
