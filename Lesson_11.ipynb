{
 "cells": [
  {
   "cell_type": "markdown",
   "metadata": {},
   "source": [
    "# __Machine Learning - Scale.__\n",
    "Date : 22, Feb, 2024.\n"
   ]
  },
  {
   "cell_type": "markdown",
   "metadata": {},
   "source": [
    "__Scale Features.__\n",
    "- When your data has different values, and even different measurement units, it can be difficult to compare them. \n",
    "\n",
    "- What is kilograms compared to meters? Or altitude compared to time?\n",
    "  \n",
    "    * The answer to this problem is scaling. We can scale data into new values that are easier to compare.\n",
    "       \n",
    "    * We take data-set called \"scaledata.csv\".\n",
    "    * where volume column contains values in liters instead of cm3 (1.0 instead of 1000)."
   ]
  },
  {
   "cell_type": "markdown",
   "metadata": {},
   "source": [
    "__Problem Statement and Procedure.__\n",
    "  \n",
    "- It can be difficult to compare the volume 1.0 with the weight 790, but if we scale them both into comparable values, we can easily see how much one value is compared to the other.\n",
    "\n",
    "- There are different methods for scaling data, in this tutorial we will use a method called __standardization__.\n",
    "\n",
    "- The standardization method uses this formula:\n",
    "\n",
    "    * __z = (x - u) / s__\n",
    "\n",
    "    - Where __z__ is the new value, __x__ is the original value, __u__ is the mean and __s__ is the standard deviation.\n",
    "\n",
    "- If you take the weight column from the data set above, the first value is 790, and the scaled value will be:\n",
    "\n",
    "    * (790 - 1292.23) / 238.74 = -2.1\n",
    "\n",
    "- If you take the volume column from the data set above, the first value is 1.0, and the scaled value will be:\n",
    "\n",
    "    * (1.0 - 1.61) / 0.38 = -1.59\n",
    "\n",
    "- Now you can compare -2.1 with -1.59 instead of comparing 790 with 1.0.\n"
   ]
  },
  {
   "cell_type": "markdown",
   "metadata": {},
   "source": [
    "__StandardScaler().__\n",
    "\n",
    "- The Python sklearn module has a method called StandardScaler() which returns a Scaler object with methods for transforming data sets.\n",
    "\n",
    "- Example : Scale all values in the Weight and Volume columns:"
   ]
  },
  {
   "cell_type": "code",
   "execution_count": null,
   "metadata": {},
   "outputs": [],
   "source": [
    "import pandas \n",
    "from sklearn import linear_model\n",
    "from sklearn.preprocessing import StandardScaler\n",
    "scale=StandardScaler()\n",
    "df=pandas.read_csv('Files/scaledata.csv')\n",
    "X=df[['Weight', 'Volume']]\n",
    "scaledX=scale.fit_transform(X)\n",
    "print(scaledX)\n"
   ]
  }
 ],
 "metadata": {
  "kernelspec": {
   "display_name": "Python 3",
   "language": "python",
   "name": "python3"
  },
  "language_info": {
   "codemirror_mode": {
    "name": "ipython",
    "version": 3
   },
   "file_extension": ".py",
   "mimetype": "text/x-python",
   "name": "python",
   "nbconvert_exporter": "python",
   "pygments_lexer": "ipython3",
   "version": "3.11.8"
  }
 },
 "nbformat": 4,
 "nbformat_minor": 2
}
