{
 "cells": [
  {
   "cell_type": "markdown",
   "metadata": {},
   "source": [
    "# __Machine Learning - Scale.__\n",
    "Date : 22, Feb, 2024.\n"
   ]
  },
  {
   "cell_type": "markdown",
   "metadata": {},
   "source": [
    "__Scale Features.__\n",
    "- When your data has different values, and even different measurement units, it can be difficult to compare them. \n",
    "\n",
    "- What is kilograms compared to meters? Or altitude compared to time?\n",
    "  \n",
    "    * The answer to this problem is scaling. We can scale data into new values that are easier to compare.\n",
    "       \n",
    "    * We take data-set called \"scaledata.csv\".\n",
    "    * where volume column contains values in liters instead of cm3 (1.0 instead of 1000)."
   ]
  }
 ],
 "metadata": {
  "language_info": {
   "name": "python"
  }
 },
 "nbformat": 4,
 "nbformat_minor": 2
}
