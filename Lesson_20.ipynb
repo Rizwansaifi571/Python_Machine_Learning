{
 "cells": [
  {
   "cell_type": "markdown",
   "metadata": {},
   "source": [
    "# __Machine Learning - Bootstrap Aggregation (Bagging)__\n",
    "Date : 4, April, 2024."
   ]
  },
  {
   "cell_type": "markdown",
   "metadata": {},
   "source": [
    "- Methods such as Decision Trees, can be prone to overfitting on the training set which can lead to wrong predictions on new data.\n",
    "\n",
    "- Bootstrap Aggregation (bagging) is a ensembling method that attempts to resolve overfitting for classification or regression problems. \n",
    "\n",
    "- Bagging aims to improve the accuracy and performance of machine learning algorithms. \n",
    "\n",
    "- It does this by taking random subsets of an original dataset, with replacement, and fits either a classifier (for classification) or regressor (for regression) to each subset. \n",
    "\n",
    "- The predictions for each subset are then aggregated through majority vote for classification or averaging for regression, increasing prediction accuracy.\n",
    "\n"
   ]
  },
  {
   "cell_type": "markdown",
   "metadata": {},
   "source": [
    "__Evaluating a Base Classifier__\n",
    "\n",
    "- To see how bagging can improve model performance, we must start by evaluating how the base classifier performs on the dataset.\n",
    "\n",
    "- We will be looking to identify different classes of wines found in Sklearn's wine dataset."
   ]
  }
 ],
 "metadata": {
  "language_info": {
   "name": "python"
  }
 },
 "nbformat": 4,
 "nbformat_minor": 2
}
