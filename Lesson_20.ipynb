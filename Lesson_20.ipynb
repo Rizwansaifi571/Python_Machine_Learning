{
 "cells": [
  {
   "cell_type": "markdown",
   "metadata": {},
   "source": [
    "# __Machine Learning - Bootstrap Aggregation (Bagging)__\n",
    "Date : 4, April, 2024."
   ]
  },
  {
   "cell_type": "markdown",
   "metadata": {},
   "source": [
    "- Methods such as Decision Trees, can be prone to overfitting on the training set which can lead to wrong predictions on new data.\n",
    "\n",
    "- Bootstrap Aggregation (bagging) is a ensembling method that attempts to resolve overfitting for classification or regression problems. \n"
   ]
  }
 ],
 "metadata": {
  "language_info": {
   "name": "python"
  }
 },
 "nbformat": 4,
 "nbformat_minor": 2
}
