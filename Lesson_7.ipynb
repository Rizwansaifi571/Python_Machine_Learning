{
 "cells": [
  {
   "cell_type": "markdown",
   "metadata": {},
   "source": [
    "# __Machine Learning - Scatter Plot.__   \n",
    "Date : 11, Feb, 2024."
   ]
  },
  {
   "cell_type": "markdown",
   "metadata": {},
   "source": [
    "- A scatter plot is a diagram where each value in the data set is represented by a dot.\n",
    "    \n",
    "- The Matplotlib module has a method for drawing scatter plots, it needs two arrays of the same length, one for the values of the x-axis, and one for the values of the y-axis:\n",
    "  \n",
    "- Example : \n",
    "    * A scatter plot with 1000 dots:\n",
    "       \n",
    "    * The first array will have the mean set to 5.0 with a standard deviation of 1.0.\n",
    "    \n",
    "    * The second array will have the mean set to 10.0 with a standard deviation of 2.0:"
   ]
  }
 ],
 "metadata": {
  "kernelspec": {
   "display_name": "Python 3",
   "language": "python",
   "name": "python3"
  },
  "language_info": {
   "codemirror_mode": {
    "name": "ipython",
    "version": 3
   },
   "file_extension": ".py",
   "mimetype": "text/x-python",
   "name": "python",
   "nbconvert_exporter": "python",
   "pygments_lexer": "ipython3",
   "version": "3.11.4"
  }
 },
 "nbformat": 4,
 "nbformat_minor": 2
}
