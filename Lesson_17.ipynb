{
 "cells": [
  {
   "cell_type": "markdown",
   "metadata": {},
   "source": [
    "# __Machine Learning - Grid Search.__\n",
    "Date : 29, March, 2024."
   ]
  },
  {
   "cell_type": "markdown",
   "metadata": {},
   "source": [
    "- The majority of machine learning models contain parameters that can be adjusted to vary how the model learns. \n",
    "\n",
    "- For example, the logistic regression model, from sklearn, has a parameter C that controls regularization, which affects the complexity of the model.\n",
    "How do we pick the best value for C? The best value is dependent on the data used to train the model.\n",
    "\n",
    "- One method is to try out different values and then pick the value that gives the best score. This technique is known as a grid search.\n",
    "\n",
    "- If we had to select the values for two or more parameters, we would evaluate all combinations of the sets of values thus forming a grid of values.\n",
    "\n",
    "- Before we get into the example it is good to know what the parameter we are changing does.\n",
    "    \n",
    "    * Higher values of C tell the model, the training data resembles real world information, place a greater weight on the training data.\n",
    "\n",
    "    * While lower values of C do the opposite.\n",
    "\n"
   ]
  },
  {
   "cell_type": "markdown",
   "metadata": {},
   "source": [
    "__Using Default Parameters.__\n",
    "\n",
    "- First let's see what kind of results we can generate without a grid search using only the base parameters.\n",
    "\n",
    "- Code : "
   ]
  }
 ],
 "metadata": {
  "language_info": {
   "name": "python"
  }
 },
 "nbformat": 4,
 "nbformat_minor": 2
}
