{
 "cells": [
  {
   "cell_type": "markdown",
   "metadata": {},
   "source": [
    "# __Machine Learning - Data Distribution.__\n",
    "Date : 11, Feb, 2024."
   ]
  },
  {
   "cell_type": "markdown",
   "metadata": {},
   "source": [
    "- In the real world, the data sets are much bigger, but it can be difficult to gather real world data, at least at an early stage of a project."
   ]
  },
  {
   "cell_type": "markdown",
   "metadata": {},
   "source": [
    "__How Can we Get Big Data Sets?__\n",
    "- To create big data sets for testing, we use the Python module NumPy, which comes with a number of methods to create random data sets, of any size.\n",
    "   \n",
    "- Example : Create an array containing 250 random floats between 0 and 5:"
   ]
  }
 ],
 "metadata": {
  "language_info": {
   "name": "python"
  }
 },
 "nbformat": 4,
 "nbformat_minor": 2
}
