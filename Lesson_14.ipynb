{
 "cells": [
  {
   "cell_type": "markdown",
   "metadata": {},
   "source": [
    "# __Machine Learning - Confusion Matrix.__\n",
    "Date : 13, March, 2024."
   ]
  },
  {
   "cell_type": "markdown",
   "metadata": {},
   "source": [
    "- It is a table that is used in classification problems to assess where errors in the model were made.\n",
    "\n",
    "- The rows represent the actual classes the outcomes should have been. \n",
    "- While the columns represent the predictions we have made. Using this table it is easy to see which predictions are wrong."
   ]
  },
  {
   "cell_type": "markdown",
   "metadata": {},
   "source": [
    "__Creating a Confusion Matrix.__\n",
    "\n",
    "- Confusion matrixes can be created by predictions made from a logistic regression.\n",
    "\n",
    "- Step 1 :\n",
    "    * For now we will generate actual and predicted values by utilizing NumPy:\n",
    "        - import numpy\n",
    "\n",
    "- Step 2 :\n",
    "    * Next we will need to generate the numbers for \"actual\" and \"predicted\" values.\n",
    "        - actual = numpy.random.binomial(1, 0.9, size = 1000)\n",
    "        - predicted = numpy.random.binomial(1, 0.9, size = 1000)\n",
    "\n",
    "    \"actual\" and \"predicted\", each containing 1000 random numbers. These numbers represent outcomes of a binary event (0 or 1) generated from a binomial distribution with a success probability of 0.9. So, each array simulates the results of a set of experiments where success occurs with a 90% probability.\n"
   ]
  }
 ],
 "metadata": {
  "language_info": {
   "name": "python"
  }
 },
 "nbformat": 4,
 "nbformat_minor": 2
}
