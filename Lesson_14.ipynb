{
 "cells": [
  {
   "cell_type": "markdown",
   "metadata": {},
   "source": [
    "# __Machine Learning - Confusion Matrix.__\n",
    "Date : 13, March, 2024."
   ]
  },
  {
   "cell_type": "markdown",
   "metadata": {},
   "source": [
    "- It is a table that is used in classification problems to assess where errors in the model were made.\n",
    "\n",
    "- The rows represent the actual classes the outcomes should have been. \n",
    "- While the columns represent the predictions we have made. Using this table it is easy to see which predictions are wrong."
   ]
  }
 ],
 "metadata": {
  "language_info": {
   "name": "python"
  }
 },
 "nbformat": 4,
 "nbformat_minor": 2
}
