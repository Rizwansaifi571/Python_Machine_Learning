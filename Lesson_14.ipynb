{
 "cells": [
  {
   "cell_type": "markdown",
   "metadata": {},
   "source": [
    "# __Machine Learning - Confusion Matrix.__\n",
    "Date : 13, March, 2024."
   ]
  },
  {
   "cell_type": "markdown",
   "metadata": {},
   "source": [
    "- It is a table that is used in classification problems to assess where errors in the model were made.\n",
    "\n",
    "- The rows represent the actual classes the outcomes should have been. \n",
    "- While the columns represent the predictions we have made. Using this table it is easy to see which predictions are wrong."
   ]
  },
  {
   "cell_type": "markdown",
   "metadata": {},
   "source": [
    "__Creating a Confusion Matrix.__\n",
    "\n",
    "- Confusion matrixes can be created by predictions made from a logistic regression.\n",
    "\n",
    "- Step 1 :\n",
    "    * For now we will generate actual and predicted values by utilizing NumPy:\n",
    "        - import numpy\n",
    "\n"
   ]
  }
 ],
 "metadata": {
  "language_info": {
   "name": "python"
  }
 },
 "nbformat": 4,
 "nbformat_minor": 2
}
