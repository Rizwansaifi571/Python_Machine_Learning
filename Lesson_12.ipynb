{
 "cells": [
  {
   "cell_type": "markdown",
   "metadata": {},
   "source": [
    "# __Machine Learning - Train/Test.__\n",
    "Date : 29, Jan, 2024."
   ]
  },
  {
   "cell_type": "markdown",
   "metadata": {},
   "source": [
    "__What is Train/Test ?__\n",
    "\n",
    "- Train/Test is a method to measure the accuracy of your model.\n",
    "\n",
    "- It is called Train/Test because you split the data set into two sets: a training set and a testing set.\n",
    "\n",
    "    * 80% for training, and 20% for testing.\n",
    "\n",
    "- You train the model using the training set.\n",
    "\n",
    "- You test the model using the testing set.\n",
    "\n",
    "- Train the model means create the model.\n",
    "\n",
    "- Test the model means test the accuracy of the model."
   ]
  }
 ],
 "metadata": {
  "language_info": {
   "name": "python"
  }
 },
 "nbformat": 4,
 "nbformat_minor": 2
}
