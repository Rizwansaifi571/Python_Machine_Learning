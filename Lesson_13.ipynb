{
 "cells": [
  {
   "cell_type": "markdown",
   "metadata": {},
   "source": [
    "# __Machine Learning - Decision Tree.__\n",
    "Date : 1, March, 2024."
   ]
  },
  {
   "cell_type": "markdown",
   "metadata": {},
   "source": [
    "- A Decision Tree is a Flow Chart, and can help you make decisions based on previous experience.\n",
    "\n",
    "- In the example, a person will try to decide if he/she should go to a comedy show or not.\n",
    "Luckily our example person has registered every time there was a comedy show in town, and registered some information about the comedian, and also registered if he/she went or not.\n",
    "\n",
    "- Now, based on this data set, Python can create a decision tree that can be used to decide if any new shows are worth attending to.\n"
   ]
  }
 ],
 "metadata": {
  "language_info": {
   "name": "python"
  }
 },
 "nbformat": 4,
 "nbformat_minor": 2
}
