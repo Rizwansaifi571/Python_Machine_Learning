{
 "cells": [
  {
   "cell_type": "markdown",
   "metadata": {},
   "source": [
    "# __Machine Learning - Multiple Regression.__\n",
    "Date : 21, Feb, 2024."
   ]
  },
  {
   "cell_type": "markdown",
   "metadata": {},
   "source": [
    "- Multiple regression is like linear regression, but with more than one independent value, meaning that we try to predict a value based on two or more variables. \n",
    "   \n",
    "- We can take a csv file -> '__data.csv__'. \n",
    "    * Which having data of the CO2 emission of a car based on the size of the engine, but with multiple regression we can throw in more variables, like the weight of the car, to make the prediction more accurate.\n",
    "\n",
    "- Example : predict CO2 values based on a car's weight and volume:"
   ]
  },
  {
   "cell_type": "code",
   "execution_count": 24,
   "metadata": {},
   "outputs": [
    {
     "name": "stdout",
     "output_type": "stream",
     "text": [
      "[107.2087328]\n"
     ]
    },
    {
     "name": "stderr",
     "output_type": "stream",
     "text": [
      "C:\\Users\\asus\\AppData\\Local\\Packages\\PythonSoftwareFoundation.Python.3.11_qbz5n2kfra8p0\\LocalCache\\local-packages\\Python311\\site-packages\\sklearn\\base.py:493: UserWarning: X does not have valid feature names, but LinearRegression was fitted with feature names\n",
      "  warnings.warn(\n"
     ]
    }
   ],
   "source": [
    "import pandas \n",
    "from sklearn import linear_model \n",
    "df=pandas.read_csv(\"data.csv\")\n",
    "X=df[[\"Weight\", \"Volume\"]]\n",
    "y=df[\"CO2\"]\n",
    "regr=linear_model.LinearRegression()\n",
    "regr.fit(X, y)\n",
    "preicted_co2=regr.predict([[2300, 1300]])\n",
    "print(preicted_co2)"
   ]
  },
  {
   "cell_type": "markdown",
   "metadata": {},
   "source": [
    "# __Coefficient.__"
   ]
  },
  {
   "cell_type": "markdown",
   "metadata": {},
   "source": [
    "- The coefficient is a factor that describes the relationship with an unknown variable.\n",
    "\n",
    "- Example: if x is a variable, then 2x is x two times. x is the unknown variable, and the number 2 is the coefficient.\n",
    "\n",
    "- In this case, we can ask for the coefficient value of weight against CO2, and for volume against CO2. The answer(s) we get tells us what would happen if we increase, or decrease, one of the independent values.\n",
    "\n",
    "- Example : Coefficient values of the regression object:"
   ]
  },
  {
   "cell_type": "code",
   "execution_count": 29,
   "metadata": {},
   "outputs": [
    {
     "name": "stdout",
     "output_type": "stream",
     "text": [
      "[0.00755095 0.00780526]\n"
     ]
    }
   ],
   "source": [
    "import pandas \n",
    "from sklearn import linear_model \n",
    "df=pandas.read_csv('data.csv')\n",
    "X=df[['Weight', 'Volume']]\n",
    "y=df['CO2']\n",
    "regr=linear_model.LinearRegression()\n",
    "regr.fit(X, y)\n",
    "print(regr.coef_)"
   ]
  }
 ],
 "metadata": {
  "language_info": {
   "name": "python"
  }
 },
 "nbformat": 4,
 "nbformat_minor": 2
}
