{
 "cells": [
  {
   "cell_type": "markdown",
   "metadata": {},
   "source": [
    "# __Machine Learning - Multiple Regression.__\n",
    "Date : 21, Feb, 2024."
   ]
  },
  {
   "cell_type": "markdown",
   "metadata": {},
   "source": [
    "- Multiple regression is like linear regression, but with more than one independent value, meaning that we try to predict a value based on two or more variables. \n",
    "   \n",
    "- We can take a csv file -> '__data.csv__'. \n",
    "    * Which having data of the CO2 emission of a car based on the size of the engine, but with multiple regression we can throw in more variables, like the weight of the car, to make the prediction more accurate.\n",
    "\n",
    "- Example : predict CO2 values based on a car's weight and volume:"
   ]
  }
 ],
 "metadata": {
  "language_info": {
   "name": "python"
  }
 },
 "nbformat": 4,
 "nbformat_minor": 2
}
