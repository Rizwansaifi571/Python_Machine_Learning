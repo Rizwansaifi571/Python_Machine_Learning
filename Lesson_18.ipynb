{
 "cells": [
  {
   "cell_type": "markdown",
   "metadata": {},
   "source": [
    "# __Preprocessing - Categorical Data.__\n",
    "Date : 30, March, 2024."
   ]
  },
  {
   "cell_type": "markdown",
   "metadata": {},
   "source": [
    "- When your data has categories represented by strings, it will be difficult to use them to train machine learning models which often only accepts numeric data.\n",
    "\n",
    "- Instead of ignoring the categorical data and excluding the information from our model, you can tranform the data so it can be used in your models.\n",
    "\n",
    "- We take same data set that we used in the multiple regression chapter."
   ]
  }
 ],
 "metadata": {
  "language_info": {
   "name": "python"
  }
 },
 "nbformat": 4,
 "nbformat_minor": 2
}
