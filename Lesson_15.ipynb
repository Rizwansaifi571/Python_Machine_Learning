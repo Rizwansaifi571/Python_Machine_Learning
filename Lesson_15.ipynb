{
 "cells": [
  {
   "cell_type": "markdown",
   "metadata": {},
   "source": [
    "# __Machine Learning - Hierarchical Clustering.__\n",
    "Date : 24, March, 2024."
   ]
  },
  {
   "cell_type": "markdown",
   "metadata": {},
   "source": [
    "- Hierarchical clustering is an unsupervised learning method for clustering data points. \n",
    "\n",
    "- The algorithm builds clusters by measuring the dissimilarities between data. \n",
    "\n",
    "- Unsupervised learning means that a model does not have to be trained, and we do not need a \"target\" variable. \n",
    "\n",
    "- This method can be used on any data to visualize and interpret the relationship between individual data points."
   ]
  }
 ],
 "metadata": {
  "language_info": {
   "name": "python"
  }
 },
 "nbformat": 4,
 "nbformat_minor": 2
}
