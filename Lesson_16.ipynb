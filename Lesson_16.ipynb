{
 "cells": [
  {
   "cell_type": "markdown",
   "metadata": {},
   "source": [
    "# __Machine Learning - Logistic Regression.__\n",
    "Date : 29, March, 2024."
   ]
  },
  {
   "cell_type": "markdown",
   "metadata": {},
   "source": [
    "- Logistic regression aims to solve classification problems. It does this by predicting categorical outcomes, unlike linear regression that predicts a continuous outcome.\n",
    "\n",
    "- In the simplest case there are two outcomes, which is called binomial, an example of which is predicting if a tumor is malignant or benign.\n",
    "\n",
    "- Other cases have more than two outcomes to classify, in this case it is called multinomial. A common example for multinomial logistic regression would be predicting the class of an iris flower between 3 different species."
   ]
  },
  {
   "cell_type": "markdown",
   "metadata": {},
   "source": [
    "Here we will be using basic logistic regression to predict a binomial variable. This means it has only two possible outcomes."
   ]
  },
  {
   "cell_type": "markdown",
   "metadata": {},
   "source": [
    "- __Example__ : Is tumor is Concerous or not?"
   ]
  },
  {
   "cell_type": "code",
   "execution_count": 7,
   "metadata": {},
   "outputs": [
    {
     "name": "stdout",
     "output_type": "stream",
     "text": [
      "3.46\n",
      "NO tummor is not cancerous !!\n"
     ]
    }
   ],
   "source": [
    "import numpy \n",
    "from sklearn import linear_model \n",
    "\n",
    "X= numpy.array([3.75, 2.44, 2.09, 0.14, 1.72, 1.65, 4.92, 4.37, 4.96, 4.52, 3.69, 5.88]).reshape(-1, 1)\n",
    "y= numpy.array([0, 0, 0, 0, 0, 0, 1, 1, 1, 1, 1, 1])\n",
    "\n",
    "logr= linear_model.LogisticRegression()\n",
    "logr.fit(X, y)\n",
    "\n",
    "# Predict if tumor is concerous where the size is 3.46 CM : \n",
    "size=eval(input(\"Enter size of Tumour :\"))\n",
    "print(size)\n",
    "predict= logr.predict(numpy.array([size]).reshape(-1, 1))\n",
    "if predict== [0]:\n",
    "    print(f\"NO tummor is not cancerous !!\")\n",
    "else :\n",
    "    print(f\"Unfortunately Tumor is cancerous !!!\")"
   ]
  },
  {
   "cell_type": "markdown",
   "metadata": {},
   "source": [
    "__Code Explanation :__ \n",
    "\n",
    "- X: This array contains the sizes of tumors. It's reshaped to a column vector using .reshape(-1, 1).    \n",
    "- y: Represents whether or not the tumor is cancerous (0 for \"No\", 1 for \"Yes\").\n",
    "\n",
    "- From the sklearn module we will use the LogisticRegression() method to create a logistic regression object.\n",
    "- This object has a method called __fit()__ that takes the independent and dependent values as parameters and fills the regression object with data that describes the relationship:"
   ]
  },
  {
   "cell_type": "markdown",
   "metadata": {},
   "source": [
    "__Coefficient :__\n",
    "\n",
    "- In logistic regression, the coefficient tells us how much the likelihood of the outcome (such as \"cancerous tumor\" or \"not cancerous tumor\") changes for every one-unit increase in the predictor variable X.\n",
    "\n",
    "- Exampele : For every 1 mm size cancer increase how much time ?"
   ]
  },
  {
   "cell_type": "code",
   "execution_count": 8,
   "metadata": {},
   "outputs": [
    {
     "name": "stdout",
     "output_type": "stream",
     "text": [
      "[[4.06336674]]\n"
     ]
    }
   ],
   "source": [
    "import numpy \n",
    "from sklearn import linear_model \n",
    "\n",
    "X= numpy.array([3.75, 2.44, 2.09, 0.14, 1.72, 1.65, 4.92, 4.37, 4.96, 4.52, 3.69, 5.88]).reshape(-1, 1)\n",
    "y= numpy.array([0, 0, 0, 0, 0, 0, 1, 1, 1, 1, 1, 1])\n",
    "\n",
    "logr= linear_model.LogisticRegression()\n",
    "logr.fit(X, y)\n",
    "\n",
    "log_odd= logr.coef_\n",
    "odds= numpy.exp(log_odd)      # covert each value from normal scale to exponential scale.\n",
    "\n",
    "print(odds)\n"
   ]
  },
  {
   "cell_type": "markdown",
   "metadata": {},
   "source": [
    "__NOTE :__ This tells us that for every additional millimeter in tumor size, the likelihood (or odds) of the tumor being cancerous increases 4X compared to its previous odds.\n",
    "\n",
    "- \"__likelihood__\" refers to the probability of observing a particular outcome given certain conditions or data."
   ]
  },
  {
   "cell_type": "markdown",
   "metadata": {},
   "source": [
    "__Probability.__\n",
    "\n",
    "- The coefficient and intercept values can be used to find the probability that each tumor is cancerous.\n",
    "\n",
    "- Create a function that uses the model's coefficient and intercept values to return a new value. This new value represents probability that the given observation is a tumor:\n",
    "\n",
    "- Code : "
   ]
  },
  {
   "cell_type": "code",
   "execution_count": 5,
   "metadata": {},
   "outputs": [
    {
     "name": "stdout",
     "output_type": "stream",
     "text": [
      "Probabilities of tumor being cancerous:\n",
      "[[0.59934789]\n",
      " [0.19249379]\n",
      " [0.12735048]\n",
      " [0.0093915 ]\n",
      " [0.07992729]\n",
      " [0.07300121]\n",
      " [0.88524882]\n",
      " [0.78108425]\n",
      " [0.89082375]\n",
      " [0.81491941]\n",
      " [0.57898985]\n",
      " [0.96736006]]\n"
     ]
    }
   ],
   "source": [
    "# Importing necessary libraries\n",
    "import numpy\n",
    "from sklearn import linear_model\n",
    "\n",
    "# Sample tumor sizes (in centimeters) as predictor variables\n",
    "tumor_sizes = numpy.array([3.75, 2.44, 2.09, 0.14, 1.72, 1.65, 4.92, 4.37, 4.96, 4.52, 3.69, 5.88])\n",
    "\n",
    "# Reshaping the tumor sizes array to fit logistic regression format\n",
    "# Each tumor size is represented as a single feature (reshaped as a column vector)\n",
    "X = tumor_sizes.reshape(-1, 1)\n",
    "\n",
    "# Binary labels indicating whether the tumor is cancerous (1) or not (0)\n",
    "y = numpy.array([0, 0, 0, 0, 0, 0, 1, 1, 1, 1, 1, 1])\n",
    "\n",
    "# Creating a logistic regression model\n",
    "logistic_regression_model = linear_model.LogisticRegression()\n",
    "\n",
    "# Fitting the model to the data\n",
    "logistic_regression_model.fit(X, y)\n",
    "\n",
    "# Defining a function to convert logit to probability\n",
    "def logit_to_probability(logr, X):\n",
    "    # Calculating log-odds using the logistic regression coefficients and intercept\n",
    "    log_odds = logr.coef_ * X + logr.intercept_\n",
    "    \n",
    "    # Calculating odds from log-odds using the exponential function\n",
    "    odds = numpy.exp(log_odds)\n",
    "    \n",
    "    # Calculating probability from odds using the logistic function\n",
    "    probability = odds / (1 + odds)\n",
    "    \n",
    "    return probability\n",
    "\n",
    "# Printing the probabilities of tumor being cancerous\n",
    "print(\"Probabilities of tumor being cancerous:\")\n",
    "print(logit_to_probability(logistic_regression_model, X))\n"
   ]
  },
  {
   "cell_type": "markdown",
   "metadata": {},
   "source": [
    "\n",
    "__Results Explained:__\n",
    "\n",
    "0.59934789...  and all output digits show probility of respective size of tumour \n",
    "\n",
    "- The probability that a tumor with the size 3.78cm is cancerous is approximately 60%.\n",
    "- The probability that a tumor with the size 2.44cm is cancerous is approximately 19%.\n",
    "- The probability that a tumor with the size 2.09cm is cancerous is approximately 13%.\n",
    "- The probability that a tumor with the size 0.14cm is cancerous is approximately 1%.\n",
    "- The probability that a tumor with the size 1.72cm is cancerous is approximately 8%.\n",
    "- The probability that a tumor with the size 1.65cm is cancerous is approximately 7%.\n",
    "- The probability that a tumor with the size 4.92cm is cancerous is approximately 89%.\n",
    "- The probability that a tumor with the size 4.37cm is cancerous is approximately 78%.\n",
    "- The probability that a tumor with the size 4.96cm is cancerous is approximately 89%.\n",
    "- The probability that a tumor with the size 4.52cm is cancerous is approximately 81%.\n",
    "- The probability that a tumor with the size 3.69cm is cancerous is approximately 58%.\n",
    "- The probability that a tumor with the size 5.88cm is cancerous is approximately 97%."
   ]
  }
 ],
 "metadata": {
  "kernelspec": {
   "display_name": "Python 3",
   "language": "python",
   "name": "python3"
  },
  "language_info": {
   "codemirror_mode": {
    "name": "ipython",
    "version": 3
   },
   "file_extension": ".py",
   "mimetype": "text/x-python",
   "name": "python",
   "nbconvert_exporter": "python",
   "pygments_lexer": "ipython3",
   "version": "3.11.8"
  }
 },
 "nbformat": 4,
 "nbformat_minor": 2
}
