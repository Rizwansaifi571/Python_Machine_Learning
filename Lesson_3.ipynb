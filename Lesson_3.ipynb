{
 "cells": [
  {
   "cell_type": "markdown",
   "metadata": {},
   "source": [
    "# __Machine Learning - Standard Deviation__\n",
    "Date : 8, Feb, 2024."
   ]
  },
  {
   "cell_type": "markdown",
   "metadata": {},
   "source": [
    "- Standard deviation is a number that describes how spread out the values are.\n",
    "\n",
    "- A low standard deviation means that most of the numbers are close to the mean (average) value.\n",
    "\n",
    "- A high standard deviation means that the values are spread out over a wider range."
   ]
  },
  {
   "cell_type": "markdown",
   "metadata": {},
   "source": [
    "Example: This time we have registered the speed of 7 cars:\n",
    "\n",
    "speed = [86,87,88,86,87,85,86]\n",
    "\n",
    "The standard deviation is: 0.9\n",
    "  \n",
    "Meaning that most of the values are within the range of 0.9 from the mean value, which is 86.4.\n"
   ]
  }
 ],
 "metadata": {
  "language_info": {
   "name": "python"
  }
 },
 "nbformat": 4,
 "nbformat_minor": 2
}
