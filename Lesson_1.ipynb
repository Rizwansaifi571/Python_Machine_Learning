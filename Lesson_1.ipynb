{
 "cells": [
  {
   "cell_type": "markdown",
   "metadata": {},
   "source": [
    "# Getting Started With Machine Leaning.\n",
    "Date : 7, Feb, 2024."
   ]
  },
  {
   "cell_type": "markdown",
   "metadata": {},
   "source": [
    "* Machine Learning is making the computer learn from studying data and statistics.\n",
    "\n",
    "* Machine Learning is a step into the direction of artificial intelligence (AI).\n",
    "\n",
    "* Machine Learning is a program that analyses data and learns to predict the outcome."
   ]
  }
 ],
 "metadata": {
  "language_info": {
   "name": "python"
  }
 },
 "nbformat": 4,
 "nbformat_minor": 2
}
