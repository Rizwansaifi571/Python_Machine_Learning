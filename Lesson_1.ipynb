{
 "cells": [
  {
   "cell_type": "markdown",
   "metadata": {},
   "source": [
    "# Getting Started With Machine Leaning.\n",
    "Date : 7, Feb, 2024."
   ]
  },
  {
   "cell_type": "markdown",
   "metadata": {},
   "source": [
    "* Machine Learning is making the computer learn from studying data and statistics.\n",
    "\n",
    "* Machine Learning is a step into the direction of artificial intelligence (AI).\n",
    "\n",
    "* Machine Learning is a program that analyses data and learns to predict the outcome."
   ]
  },
  {
   "cell_type": "markdown",
   "metadata": {},
   "source": [
    "# Data Types."
   ]
  },
  {
   "cell_type": "markdown",
   "metadata": {},
   "source": [
    "To analyze data, it is important to know what type of data we are dealing with.  \n",
    "\n",
    "We can split the data types into three main categories:"
   ]
  },
  {
   "cell_type": "markdown",
   "metadata": {},
   "source": [
    "* Numerical\n",
    "* Categorical\n",
    "* Ordinal"
   ]
  },
  {
   "cell_type": "markdown",
   "metadata": {},
   "source": [
    "__Numerical__ data are numbers, and can be split into two numerical categories:   \n",
    "\n",
    "* __Discrete Data.__    \n",
    "  counted data that are limited to integers. Example: The number of cars passing by.   \n",
    "\n",
    "* __Continuous Data.__   \n",
    "  measured data that can be any number. Example: The price of an item, or the size of an item"
   ]
  },
  {
   "cell_type": "markdown",
   "metadata": {},
   "source": [
    "__Categorical data__ are values that cannot be measured up against each other. Example: a color value, or any yes/no values."
   ]
  },
  {
   "cell_type": "markdown",
   "metadata": {},
   "source": [
    "__Ordinal data__ are like categorical data, but can be measured up against each other. Example: school grades where A is better than B and so on."
   ]
  },
  {
   "cell_type": "markdown",
   "metadata": {},
   "source": [
    "By knowing the data type of our data source, we will be able to know what technique to use when analyzing them."
   ]
  }
 ],
 "metadata": {
  "language_info": {
   "name": "python"
  }
 },
 "nbformat": 4,
 "nbformat_minor": 2
}
